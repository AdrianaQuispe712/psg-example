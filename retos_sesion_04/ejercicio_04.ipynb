{
 "cells": [
  {
   "cell_type": "markdown",
   "id": "1b2e62b9",
   "metadata": {},
   "source": [
    "# Juego: Batalla de Naves\n",
    "\n",
    "Este es un juego por turnos donde dos jugadores colocan sus naves en un tablero\n",
    "y se atacan intentando hundir las naves del oponente.\n"
   ]
  },
  {
   "cell_type": "markdown",
   "id": "11bcd3f2",
   "metadata": {},
   "source": [
    "## Reglas del juego\n",
    "\n",
    "1. Cada jugador coloca sus naves en un tablero de 5x5.\n",
    "2. En su turno, el jugador elige una coordenada para atacar.\n",
    "3. Si acierta, se marca con \"X\", si falla con \"O\".\n",
    "4. Gana quien hunda todas las naves del oponente.\n"
   ]
  },
  {
   "cell_type": "code",
   "execution_count": 1,
   "id": "aff8ba68",
   "metadata": {},
   "outputs": [
    {
     "name": "stdout",
     "output_type": "stream",
     "text": [
      "  A B C D E\n",
      "1 ~ ~ ~ ~ ~\n",
      "2 ~ ~ ~ ~ ~\n",
      "3 ~ ~ ~ ~ ~\n",
      "4 ~ ~ ~ ~ ~\n",
      "5 ~ ~ ~ ~ ~\n"
     ]
    }
   ],
   "source": [
    "print(\"  A B C D E\")\n",
    "for i in range(1, 6):\n",
    "    print(f\"{i} ~ ~ ~ ~ ~\")\n"
   ]
  },
  {
   "cell_type": "markdown",
   "id": "2b4ea360",
   "metadata": {},
   "source": [
    "## Piezas\n",
    "\n",
    "- `~` Agua\n",
    "- `N` Nave\n",
    "- `X` Impacto\n",
    "- `O` Fallo\n"
   ]
  },
  {
   "cell_type": "code",
   "execution_count": 2,
   "id": "1c5f20bf",
   "metadata": {},
   "outputs": [
    {
     "name": "stdout",
     "output_type": "stream",
     "text": [
      "N = Nave\n",
      "X = Impacto\n",
      "O = Fallo\n",
      "~ = Agua\n"
     ]
    }
   ],
   "source": [
    "print(\"N = Nave\")\n",
    "print(\"X = Impacto\")\n",
    "print(\"O = Fallo\")\n",
    "print(\"~ = Agua\")\n"
   ]
  }
 ],
 "metadata": {
  "kernelspec": {
   "display_name": "Python 3",
   "language": "python",
   "name": "python3"
  },
  "language_info": {
   "codemirror_mode": {
    "name": "ipython",
    "version": 3
   },
   "file_extension": ".py",
   "mimetype": "text/x-python",
   "name": "python",
   "nbconvert_exporter": "python",
   "pygments_lexer": "ipython3",
   "version": "3.11.4"
  }
 },
 "nbformat": 4,
 "nbformat_minor": 5
}
