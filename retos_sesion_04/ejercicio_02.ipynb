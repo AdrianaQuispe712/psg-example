{
 "cells": [
  {
   "cell_type": "markdown",
   "id": "9eb8a911",
   "metadata": {},
   "source": [
    "### Ejercicio 02\n",
    "\n",
    "Crear una imagen utilizando símbolos con `print`.  \n",
    "Símbolos permitidos: `* , () \\ | / o \" ' = C`\n"
   ]
  },
  {
   "cell_type": "code",
   "execution_count": 1,
   "id": "2a0179c5",
   "metadata": {},
   "outputs": [
    {
     "name": "stdout",
     "output_type": "stream",
     "text": [
      " (()(()\n",
      " (=*o*)/\")\n",
      "C(,,)(,,)\n"
     ]
    }
   ],
   "source": [
    "print(\" (()(()\")\n",
    "print(' (=*o*)/\")')\n",
    "print(\"C(,,)(,,)\")\n"
   ]
  }
 ],
 "metadata": {
  "kernelspec": {
   "display_name": "Python 3",
   "language": "python",
   "name": "python3"
  },
  "language_info": {
   "codemirror_mode": {
    "name": "ipython",
    "version": 3
   },
   "file_extension": ".py",
   "mimetype": "text/x-python",
   "name": "python",
   "nbconvert_exporter": "python",
   "pygments_lexer": "ipython3",
   "version": "3.11.4"
  }
 },
 "nbformat": 4,
 "nbformat_minor": 5
}
