{
 "cells": [
  {
   "cell_type": "code",
   "execution_count": 1,
   "id": "12a152d9",
   "metadata": {},
   "outputs": [
    {
     "name": "stdout",
     "output_type": "stream",
     "text": [
      "Mi cadena permite comillas \"dobles\" en una sola línea\n",
      "Mi cadena permite comillas 'simples' en una sola línea\n",
      "Mi cadena\n",
      "permite contenido \n",
      "en varias líneas y comillas \"dobles\" \n",
      "Mi cadena\n",
      "permite contenido \n",
      "en varias líneas y comillas 'simples' \n"
     ]
    }
   ],
   "source": [
    "simple = 'Mi cadena permite comillas \"dobles\" en una sola línea'\n",
    "doble  = \"Mi cadena permite comillas 'simples' en una sola línea\"\n",
    "triple_simple = '''Mi cadena\n",
    "permite contenido \n",
    "en varias líneas y comillas \"dobles\" '''\n",
    "triple_doble = \"\"\"Mi cadena\n",
    "permite contenido \n",
    "en varias líneas y comillas 'simples' \"\"\"\n",
    "print(simple)\n",
    "print(doble)\n",
    "print(triple_simple)\n",
    "print(triple_doble)\n"
   ]
  },
  {
   "cell_type": "code",
   "execution_count": 3,
   "id": "ffe74128",
   "metadata": {},
   "outputs": [
    {
     "name": "stdout",
     "output_type": "stream",
     "text": [
      "1\n",
      "0.001\n",
      "10\n",
      "True\n",
      "<class 'str'>\n",
      "<class 'str'>\n",
      "<class 'str'>\n",
      "<class 'str'>\n"
     ]
    }
   ],
   "source": [
    "entero = str(1)\n",
    "flotante = str(1E-3)\n",
    "hexadecimal = str(0xA)\n",
    "booleano = str(True)\n",
    "\n",
    "print(entero)\n",
    "print(flotante)\n",
    "print(hexadecimal)\n",
    "print(booleano)\n",
    "\n",
    "print(type(entero))\n",
    "print(type(flotante))\n",
    "print(type(hexadecimal))\n",
    "print(type(booleano))\n"
   ]
  },
  {
   "cell_type": "markdown",
   "id": "5e60e46d",
   "metadata": {},
   "source": [
    "# Opciones más simples para evitar errores de escape\n",
    "print(\"El mensaje enviado fue: \\\"Hello, I'm a message\\\"\")\n",
    "print('El mensaje enviado fue: \"Hello, I\\'m a message\"')\n"
   ]
  },
  {
   "cell_type": "code",
   "execution_count": 4,
   "id": "741b5e24",
   "metadata": {},
   "outputs": [
    {
     "name": "stdout",
     "output_type": "stream",
     "text": [
      "El mensaje enviado fue: \"Hello, I'm a message\"\n",
      "El mensaje enviado fue: \"Hello, I'm a message\"\n"
     ]
    }
   ],
   "source": [
    "# Opciones más simples para evitar errores de escape\n",
    "print(\"El mensaje enviado fue: \\\"Hello, I'm a message\\\"\")\n",
    "print('El mensaje enviado fue: \"Hello, I\\'m a message\"')\n"
   ]
  },
  {
   "cell_type": "code",
   "execution_count": 5,
   "id": "8ea3b692",
   "metadata": {},
   "outputs": [
    {
     "name": "stdout",
     "output_type": "stream",
     "text": [
      "Hola,\n",
      "\teste es un mensaje \u000bcon algunos caracteres \\ y tabulador.\n"
     ]
    }
   ],
   "source": [
    "mensaje = \"Hola,\\n\\teste es un mensaje \\vcon algunos caracteres \\\\ y tabulador.\"\n",
    "print(mensaje)"
   ]
  },
  {
   "cell_type": "code",
   "execution_count": 6,
   "id": "df67a68a",
   "metadata": {},
   "outputs": [
    {
     "name": "stdout",
     "output_type": "stream",
     "text": [
      "5 <class 'int'>\n",
      "3.14 <class 'float'>\n",
      "True <class 'bool'>\n"
     ]
    }
   ],
   "source": [
    "entrada_entero = \"5\"\n",
    "entrada_flotante = \"3.14\"\n",
    "entrada_bool = \"true\"\n",
    "try:\n",
    "    entero = int(entrada_entero)\n",
    "    print(entero, type(entero))\n",
    "except ValueError:\n",
    "    print(\"No ingresó un valor entero válido\")\n",
    "\n",
    "try:\n",
    "    flotante = float(entrada_flotante)\n",
    "    print(flotante, type(flotante))\n",
    "except ValueError:\n",
    "    print(\"No ingresó un valor flotante válido\")\n",
    "\n",
    "entrada_bool = entrada_bool.strip().lower()\n",
    "if entrada_bool == \"true\":\n",
    "    booleano = True\n",
    "elif entrada_bool == \"false\":\n",
    "    booleano = False\n",
    "else:\n",
    "    booleano = None\n",
    "    print(\"Valor booleano inválido (debe ser 'true' o 'false')\")\n",
    "print(booleano, type(booleano))"
   ]
  },
  {
   "cell_type": "code",
   "execution_count": 7,
   "id": "d78ac56f",
   "metadata": {},
   "outputs": [
    {
     "name": "stdout",
     "output_type": "stream",
     "text": [
      "Indexado positivo\n",
      "banana\n",
      "b\n",
      "a\n",
      "b\n",
      "n\n",
      "Slicing\n",
      "LaPaz-Bolivia\n",
      "Slicing con índices positivos\n",
      "LaPaz-\n",
      "LPz\n",
      "Slicing con índices negativos\n",
      "az-Boliv\n",
      "a-oi\n",
      "Slicing sin índice inicial y final\n",
      "LaPaz-\n",
      "Bolivia\n",
      "LaPaz-Bolivia\n",
      "LPzBlva\n",
      "Slicing con paso negativo\n",
      "viloB-\n",
      "vlBzPL\n"
     ]
    }
   ],
   "source": [
    "print(\"Indexado positivo\")\n",
    "fruta = \"banana\"\n",
    "print(fruta)\n",
    "print(fruta[0])\n",
    "print(fruta[5])\n",
    "print(fruta[-6])\n",
    "print(fruta[-2])\n",
    "\n",
    "print(\"Slicing\")\n",
    "ciudad =  \"LaPaz-Bolivia\"\n",
    "print(ciudad)\n",
    "print(\"Slicing con índices positivos\")\n",
    "print(ciudad[0:6])\n",
    "print(ciudad[0:6:2])\n",
    "print(\"Slicing con índices negativos\")\n",
    "print(ciudad[-10:-2])\n",
    "print(ciudad[-10:-2:2])\n",
    "print(\"Slicing sin índice inicial y final\")\n",
    "print(ciudad[:6])\n",
    "print(ciudad[6:])\n",
    "print(ciudad[:])\n",
    "print(ciudad[::2])\n",
    "print(\"Slicing con paso negativo\")\n",
    "print(ciudad[10:4:-1])\n",
    "print(ciudad[10::-2])"
   ]
  },
  {
   "cell_type": "code",
   "execution_count": 8,
   "id": "70b4bcb2",
   "metadata": {},
   "outputs": [
    {
     "name": "stdout",
     "output_type": "stream",
     "text": [
      "Longitud de una cadena\n",
      "Hola Mundo :D\n",
      "13 <class 'int'>\n"
     ]
    }
   ],
   "source": [
    "print(\"Longitud de una cadena\")\n",
    "cadena = \"Hola Mundo :D\"\n",
    "longitud = len(cadena)\n",
    "print(cadena)\n",
    "print(longitud, type(longitud))"
   ]
  },
  {
   "cell_type": "code",
   "execution_count": 9,
   "id": "489466aa",
   "metadata": {},
   "outputs": [
    {
     "name": "stdout",
     "output_type": "stream",
     "text": [
      "Función Upper\n",
      "cadena Inicial #1\n",
      "CADENA INICIAL #1\n",
      "Función Lower\n",
      "Cadena INICIAL #2\n",
      "cadena inicial #2\n",
      "Función Capitalize\n",
      "cadena INICIAL #3\n",
      "Cadena inicial #3\n",
      "Función Title\n",
      "CADENA inicial #4\n",
      "Cadena Inicial #4\n",
      "Función Swapcase\n",
      "CADena InIcIaL #5\n",
      "cadENA iNiCiAl #5\n"
     ]
    }
   ],
   "source": [
    "print(\"Función Upper\")\n",
    "cadena = \"cadena Inicial #1\"\n",
    "print(cadena)\n",
    "print(cadena.upper())\n",
    "\n",
    "print(\"Función Lower\")\n",
    "cadena = \"Cadena INICIAL #2\"\n",
    "print(cadena)\n",
    "print(cadena.lower())\n",
    "\n",
    "print(\"Función Capitalize\")\n",
    "cadena = \"cadena INICIAL #3\"\n",
    "print(cadena)\n",
    "print(cadena.capitalize())\n",
    "\n",
    "print(\"Función Title\")\n",
    "cadena = \"CADENA inicial #4\"\n",
    "print(cadena)\n",
    "print(cadena.title())\n",
    "\n",
    "print(\"Función Swapcase\")\n",
    "cadena = \"CADena InIcIaL #5\"\n",
    "print(cadena)\n",
    "print(cadena.swapcase())"
   ]
  },
  {
   "cell_type": "code",
   "execution_count": 10,
   "id": "cc8cbe54",
   "metadata": {},
   "outputs": [
    {
     "name": "stdout",
     "output_type": "stream",
     "text": [
      "Función Count\n",
      "Cantidad de veces la letra A\n",
      "4\n",
      "Función Find\n",
      "Encontrar las letras las\n",
      "10\n",
      "Función Rfind\n",
      "Encontrar las letras las\n",
      "21\n",
      "Función Find y Rfind con texto no existente\n",
      "Encontrar tres O\n",
      "-1\n",
      "-1\n"
     ]
    }
   ],
   "source": [
    "print(\"Función Count\")\n",
    "cadena = \"Cantidad de veces la letra A\"\n",
    "print(cadena)\n",
    "print(cadena.count(\"a\"))\n",
    "\n",
    "print(\"Función Find\")\n",
    "cadena = \"Encontrar las letras las\"\n",
    "print(cadena)\n",
    "print(cadena.find(\"las\"))\n",
    "\n",
    "print(\"Función Rfind\")\n",
    "cadena = \"Encontrar las letras las\"\n",
    "print(cadena)\n",
    "print(cadena.rfind(\"las\"))\n",
    "\n",
    "print(\"Función Find y Rfind con texto no existente\")\n",
    "cadena = \"Encontrar tres O\"\n",
    "print(cadena)\n",
    "print(cadena.find(\"OOO\"))\n",
    "print(cadena.rfind(\"OOO\"))"
   ]
  },
  {
   "cell_type": "code",
   "execution_count": 11,
   "id": "bb851ab6",
   "metadata": {},
   "outputs": [
    {
     "name": "stdout",
     "output_type": "stream",
     "text": [
      "Función isdigit\n",
      "True\n",
      "Función isalpha\n",
      "True\n",
      "Función isalnum\n",
      "True\n"
     ]
    }
   ],
   "source": [
    "print(\"Función isdigit\")\n",
    "print(\"100\".isdigit())\n",
    "\n",
    "print(\"Función isalpha\")\n",
    "print(\"Hola\".isalpha())\n",
    "\n",
    "print(\"Función isalnum\")\n",
    "print(\"usuario123\".isalnum())"
   ]
  },
  {
   "cell_type": "code",
   "execution_count": 12,
   "id": "9969bf15",
   "metadata": {},
   "outputs": [
    {
     "name": "stdout",
     "output_type": "stream",
     "text": [
      "Función split\n",
      "pan,carne,huevos\n",
      "['pan', 'carne', 'huevos']\n",
      "Función join\n",
      "abcdefghij\n",
      "a-b-c-d-e-f-g-h-i-j\n"
     ]
    }
   ],
   "source": [
    "print(\"Función split\")\n",
    "cadena = \"pan,carne,huevos\"\n",
    "print(cadena)\n",
    "print(cadena.split(\",\"))\n",
    "\n",
    "print(\"Función join\")\n",
    "cadena = \"abcdefghij\"\n",
    "print(cadena)\n",
    "print(\"-\".join(cadena))\n"
   ]
  },
  {
   "cell_type": "code",
   "execution_count": 13,
   "id": "da4dcc64",
   "metadata": {},
   "outputs": [
    {
     "name": "stdout",
     "output_type": "stream",
     "text": [
      "Función strip\n",
      "Original: '      Hola    Mundo     '\n",
      "Limpio:   'Hola    Mundo'\n",
      "Original: '-abc--def-ghi-cba----'\n",
      "Limpio:   'def-ghi'\n"
     ]
    }
   ],
   "source": [
    "print(\"Función strip\")\n",
    "cadena = \"      Hola    Mundo     \"\n",
    "print(f\"Original: '{cadena}'\")\n",
    "print(f\"Limpio:   '{cadena.strip()}'\")\n",
    "\n",
    "cadena = \"-abc--def-ghi-cba----\"\n",
    "print(f\"Original: '{cadena}'\")\n",
    "print(f\"Limpio:   '{cadena.strip('bac-')}'\")"
   ]
  },
  {
   "cell_type": "code",
   "execution_count": 14,
   "id": "2b270c31",
   "metadata": {},
   "outputs": [
    {
     "name": "stdout",
     "output_type": "stream",
     "text": [
      "Función replace\n",
      "Me gusta programar en JS, Amo JS\n",
      "Me gusta programar en Python, Amo Python\n"
     ]
    }
   ],
   "source": [
    "print(\"Función replace\")\n",
    "cadena = \"Me gusta programar en JS, Amo JS\"\n",
    "print(cadena)\n",
    "print(cadena.replace(\"JS\", \"Python\"))"
   ]
  },
  {
   "cell_type": "code",
   "execution_count": 15,
   "id": "a829a4e9",
   "metadata": {},
   "outputs": [
    {
     "name": "stdout",
     "output_type": "stream",
     "text": [
      "Función format\n",
      "El valor de PI es: {}\n",
      "El valor de PI es: 3.1416\n",
      "Función format con índices\n",
      "{2} es la suma de {0} y {1}\n",
      "8 es la suma de 5 y 3\n",
      "Función format con nombres\n",
      "{ciudad} es la capital de {pais}\n",
      "París es la capital de Francia\n"
     ]
    }
   ],
   "source": [
    "print(\"Función format\")\n",
    "cadena = \"El valor de PI es: {}\"\n",
    "print(cadena)\n",
    "print(cadena.format(3.1416))\n",
    "\n",
    "print(\"Función format con índices\")\n",
    "cadena = \"{2} es la suma de {0} y {1}\"\n",
    "valor_1 = 5\n",
    "valor_2 = 3\n",
    "resultado = valor_1 + valor_2\n",
    "print(cadena)\n",
    "print(cadena.format(valor_1, valor_2, resultado))\n",
    "\n",
    "print(\"Función format con nombres\")\n",
    "cadena = \"{ciudad} es la capital de {pais}\"\n",
    "pais = \"Francia\"\n",
    "ciudad = \"París\"\n",
    "print(cadena)\n",
    "print(cadena.format(pais=pais, ciudad=ciudad))"
   ]
  },
  {
   "cell_type": "code",
   "execution_count": 16,
   "id": "234fba52",
   "metadata": {},
   "outputs": [
    {
     "name": "stdout",
     "output_type": "stream",
     "text": [
      "Función format con f-string\n",
      "La moneda de Bolivia es el Boliviano\n"
     ]
    }
   ],
   "source": [
    "print(\"Función format con f-string\")\n",
    "moneda = \"Boliviano\"\n",
    "pais = \"Bolivia\"\n",
    "formateado = f\"La moneda de {pais} es el {moneda}\"\n",
    "print(formateado)"
   ]
  }
 ],
 "metadata": {
  "kernelspec": {
   "display_name": "Python 3",
   "language": "python",
   "name": "python3"
  },
  "language_info": {
   "codemirror_mode": {
    "name": "ipython",
    "version": 3
   },
   "file_extension": ".py",
   "mimetype": "text/x-python",
   "name": "python",
   "nbconvert_exporter": "python",
   "pygments_lexer": "ipython3",
   "version": "3.11.4"
  }
 },
 "nbformat": 4,
 "nbformat_minor": 5
}
