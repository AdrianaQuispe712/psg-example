{
 "cells": [
  {
   "cell_type": "code",
   "execution_count": 1,
   "id": "43327058",
   "metadata": {},
   "outputs": [
    {
     "name": "stdout",
     "output_type": "stream",
     "text": [
      "Total a pagar: $45.00\n"
     ]
    }
   ],
   "source": [
    "\n",
    "precio_unitario = 3.75\n",
    "cantidad = 12\n",
    "total = precio_unitario * cantidad\n",
    "print(f\"Total a pagar: ${total:.2f}\")\n"
   ]
  },
  {
   "cell_type": "code",
   "execution_count": 2,
   "id": "d8a45a2a",
   "metadata": {},
   "outputs": [
    {
     "name": "stdout",
     "output_type": "stream",
     "text": [
      "25 °F = -3.89 °C\n",
      "300 °F = 148.89 °C\n",
      "76 °F = 24.44 °C\n"
     ]
    }
   ],
   "source": [
    "# Conviert\n",
    "def fahrenheit_a_celsius(f):\n",
    "    return (f - 32) * 5 / 9\n",
    "\n",
    "temperaturas_f = [25, 300, 76]\n",
    "for f in temperaturas_f:\n",
    "    c = fahrenheit_a_celsius(f)\n",
    "    print(f\"{f} °F = {c:.2f} °C\")\n"
   ]
  },
  {
   "cell_type": "code",
   "execution_count": 3,
   "id": "077f7393",
   "metadata": {},
   "outputs": [
    {
     "name": "stdout",
     "output_type": "stream",
     "text": [
      "1000000 segundos = 1 semanas 4 días 13 horas 46 minutos 40 segundos\n"
     ]
    }
   ],
   "source": [
    "segundos_totales = 1000000\n",
    "\n",
    "semanas = segundos_totales // (7 * 24 * 3600)\n",
    "resto = segundos_totales % (7 * 24 * 3600)\n",
    "\n",
    "dias = resto // (24 * 3600)\n",
    "resto %= (24 * 3600)\n",
    "\n",
    "horas = resto // 3600\n",
    "resto %= 3600\n",
    "\n",
    "minutos = resto // 60\n",
    "segundos = resto % 60\n",
    "\n",
    "print(f\"{segundos_totales} segundos = {semanas} semanas {dias} días {horas} horas {minutos} minutos {segundos} segundos\")\n"
   ]
  },
  {
   "cell_type": "code",
   "execution_count": 4,
   "id": "8efabe6a",
   "metadata": {},
   "outputs": [
    {
     "name": "stdout",
     "output_type": "stream",
     "text": [
      "El volumen del cubo es: 3375 m³\n"
     ]
    }
   ],
   "source": [
    "lado = 15\n",
    "volumen = lado ** 3\n",
    "print(f\"El volumen del cubo es: {volumen} m³\")\n"
   ]
  },
  {
   "cell_type": "code",
   "execution_count": 5,
   "id": "f7f50e71",
   "metadata": {},
   "outputs": [
    {
     "name": "stdout",
     "output_type": "stream",
     "text": [
      "total de 6.0 horas.\n",
      "Operadores de comparación\n",
      "False\n",
      "False\n",
      "True\n",
      "True\n",
      "True\n",
      "False\n"
     ]
    }
   ],
   "source": [
    "\n",
    "minutos = 300\n",
    "segundos = 3600\n",
    "minutos_extra = segundos / 60\n",
    "minutos_totales = minutos + minutos_extra\n",
    "horas_totales = minutos_totales / 60\n",
    "print(\"total de\", horas_totales, \"horas.\")\n",
    "\n",
    "\n",
    "print (\"Operadores de comparación\")\n",
    "comparar = 10\n",
    "print (comparar < 10)\n",
    "print (comparar > 10)\n",
    "print (comparar == 10)\n",
    "print (comparar <= 10)\n",
    "print (comparar >= 10)\n",
    "print (comparar != 10)"
   ]
  }
 ],
 "metadata": {
  "kernelspec": {
   "display_name": "Python 3",
   "language": "python",
   "name": "python3"
  },
  "language_info": {
   "codemirror_mode": {
    "name": "ipython",
    "version": 3
   },
   "file_extension": ".py",
   "mimetype": "text/x-python",
   "name": "python",
   "nbconvert_exporter": "python",
   "pygments_lexer": "ipython3",
   "version": "3.11.4"
  }
 },
 "nbformat": 4,
 "nbformat_minor": 5
}
